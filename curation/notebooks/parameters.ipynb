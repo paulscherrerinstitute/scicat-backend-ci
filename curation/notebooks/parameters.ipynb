{
 "cells": [
  {
   "cell_type": "code",
   "execution_count": 159,
   "id": "66c7cf52-ccd6-4ecf-884e-8fa5d31ce648",
   "metadata": {},
   "outputs": [
    {
     "name": "stdout",
     "output_type": "stream",
     "text": [
      "The autoreload extension is already loaded. To reload it, use:\n",
      "  %reload_ext autoreload\n"
     ]
    }
   ],
   "source": [
    "%load_ext autoreload\n",
    "%autoreload 2"
   ]
  },
  {
   "cell_type": "code",
   "execution_count": 166,
   "id": "11264cce-3410-41b3-bc0f-2b3708b493ce",
   "metadata": {},
   "outputs": [],
   "source": [
    "from json import dumps \n",
    "\n",
    "from utils import *\n",
    "from non_interesting_scientific_metadata import non_interesting_parameters, scientific_metadata_dict"
   ]
  },
  {
   "cell_type": "code",
   "execution_count": 151,
   "id": "98f4af35-0c1b-4bf2-8504-7f3ecad3f33b",
   "metadata": {},
   "outputs": [],
   "source": [
    "ds = get_ds()"
   ]
  },
  {
   "cell_type": "code",
   "execution_count": 161,
   "id": "4551dc90-3f8f-4f79-909b-82dd6b0bf5df",
   "metadata": {
    "tags": []
   },
   "outputs": [],
   "source": [
    "out = set()\n",
    "ds_filtered = list(filter(lambda x: (out.update(x.get(\"scientificMetadata\").keys()), True) if isinstance(x.get(\"scientificMetadata\"), dict) else None, ds))"
   ]
  },
  {
   "cell_type": "code",
   "execution_count": 162,
   "id": "4c3c01be-247d-42d3-8b84-cb2f328ca0d6",
   "metadata": {},
   "outputs": [],
   "source": [
    "interesting_keys = list(filter(lambda x: all(map(lambda y: not x.startswith(y), non_interesting_parameters)), out))"
   ]
  },
  {
   "cell_type": "code",
   "execution_count": null,
   "id": "1f659e73-5689-431d-b62f-c1ce2267be19",
   "metadata": {},
   "outputs": [],
   "source": [
    "interesting_keys"
   ]
  },
  {
   "cell_type": "code",
   "execution_count": 164,
   "id": "3903a120-14dd-4789-9163-1453647eacd1",
   "metadata": {},
   "outputs": [],
   "source": [
    "index_dict = {}\n",
    "for d in ds_filtered:\n",
    "    for k in interesting_keys:\n",
    "        if d[\"scientificMetadata\"].get(k):\n",
    "            index_dict[k] = index_dict.get(k, []) + [d[\"scientificMetadata\"][k]]"
   ]
  },
  {
   "cell_type": "code",
   "execution_count": null,
   "id": "1f520830-cede-40fb-b55e-0bc6bf874769",
   "metadata": {
    "collapsed": true,
    "jupyter": {
     "outputs_hidden": true
    },
    "tags": []
   },
   "outputs": [],
   "source": [
    "print(dumps(index_dict, sort_keys=True, indent=4))"
   ]
  },
  {
   "cell_type": "code",
   "execution_count": null,
   "id": "9d2cf590-6806-4b1c-95b0-ca89bab87eaf",
   "metadata": {},
   "outputs": [],
   "source": []
  }
 ],
 "metadata": {
  "kernelspec": {
   "display_name": "Python 3.10.7 64-bit",
   "language": "python",
   "name": "python3"
  },
  "language_info": {
   "codemirror_mode": {
    "name": "ipython",
    "version": 3
   },
   "file_extension": ".py",
   "mimetype": "text/x-python",
   "name": "python",
   "nbconvert_exporter": "python",
   "pygments_lexer": "ipython3",
   "version": "3.10.7"
  },
  "vscode": {
   "interpreter": {
    "hash": "b0fa6594d8f4cbf19f97940f81e996739fb7646882a419484c72d19e05852a7e"
   }
  }
 },
 "nbformat": 4,
 "nbformat_minor": 5
}
