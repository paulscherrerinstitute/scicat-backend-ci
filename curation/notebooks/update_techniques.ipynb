{
 "cells": [
  {
   "cell_type": "code",
   "execution_count": 47,
   "id": "8054b0f3-72bc-49cd-93aa-be8cb1e6a175",
   "metadata": {},
   "outputs": [
    {
     "name": "stdout",
     "output_type": "stream",
     "text": [
      "The autoreload extension is already loaded. To reload it, use:\n",
      "  %reload_ext autoreload\n"
     ]
    }
   ],
   "source": [
    "%load_ext autoreload\n",
    "%autoreload 2"
   ]
  },
  {
   "cell_type": "code",
   "execution_count": 48,
   "id": "37106620-2727-43bd-93f4-ebfd755ef175",
   "metadata": {},
   "outputs": [],
   "source": [
    "from techniques_dict import location_panet_dict\n",
    "from utils import *"
   ]
  },
  {
   "cell_type": "code",
   "execution_count": 53,
   "id": "86d8c24f-f852-418f-b0e4-f6e3c022436d",
   "metadata": {},
   "outputs": [],
   "source": [
    "ds_pids = get_ds_creation_location(location_panet_dict)"
   ]
  },
  {
   "cell_type": "code",
   "execution_count": 50,
   "id": "f9fb5a7a-7e03-475a-82f4-617315a20113",
   "metadata": {},
   "outputs": [],
   "source": [
    "token = get_token()"
   ]
  },
  {
   "cell_type": "code",
   "execution_count": 52,
   "id": "f4419cc6-8429-4cae-a52d-6333d8f74b37",
   "metadata": {},
   "outputs": [],
   "source": [
    "update_all_techniques(token, ds_pids, location_panet_dict)"
   ]
  }
 ],
 "metadata": {
  "kernelspec": {
   "display_name": "Python 3 (ipykernel)",
   "language": "python",
   "name": "python3"
  },
  "language_info": {
   "codemirror_mode": {
    "name": "ipython",
    "version": 3
   },
   "file_extension": ".py",
   "mimetype": "text/x-python",
   "name": "python",
   "nbconvert_exporter": "python",
   "pygments_lexer": "ipython3",
   "version": "3.10.8"
  }
 },
 "nbformat": 4,
 "nbformat_minor": 5
}
